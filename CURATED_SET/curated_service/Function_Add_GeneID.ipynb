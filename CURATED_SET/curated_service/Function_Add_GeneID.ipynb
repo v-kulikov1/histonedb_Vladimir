{
 "cells": [
  {
   "cell_type": "code",
   "execution_count": null,
   "id": "2f936efa-fc4d-4c9c-8f4e-4d083c2b9993",
   "metadata": {},
   "outputs": [],
   "source": [
    "%cd '..'"
   ]
  },
  {
   "cell_type": "code",
   "execution_count": null,
   "id": "8bf2eb3e-d561-4351-8922-8853c047c54e",
   "metadata": {},
   "outputs": [],
   "source": [
    "import pandas as pd\n",
    "from Bio import Entrez, SeqIO\n",
    "from curated_set_services import CuratedSet"
   ]
  },
  {
   "cell_type": "code",
   "execution_count": null,
   "id": "1ebc279f-c52c-436a-8c3d-59e0b6b9a53b",
   "metadata": {},
   "outputs": [],
   "source": [
    "from Bio import Entrez, SeqIO\n",
    "\n",
    "Entrez.email = \"test@test.com\""
   ]
  },
  {
   "cell_type": "code",
   "execution_count": null,
   "id": "a0720729-a4ca-49fe-b86f-c6226812d90b",
   "metadata": {},
   "outputs": [],
   "source": [
    "curated_set = CuratedSet()\n",
    "cs = curated_set\n",
    "\n",
    "cs.data.shape, cs.data.columns"
   ]
  },
  {
   "cell_type": "code",
   "execution_count": null,
   "id": "6cb2fec1-741e-4670-910b-1facb0df7d42",
   "metadata": {},
   "outputs": [],
   "source": [
    "lst = [line for line in cs.data[\"accession\"].to_list() if not \"HISTDB\" in line]"
   ]
  },
  {
   "cell_type": "code",
   "execution_count": null,
   "id": "40ec4dac-39cf-433a-932b-a38ad4096ef8",
   "metadata": {},
   "outputs": [],
   "source": [
    "len(lst)"
   ]
  },
  {
   "cell_type": "code",
   "execution_count": null,
   "id": "f79293c1-7647-4673-ba35-2c610c862a92",
   "metadata": {},
   "outputs": [],
   "source": [
    "others_accessions = [line for line in cs.data[\"accession\"].tolist() if \"HISTDB\" in line]\n",
    "sup_dict = dict()\n",
    "for acsn in others_accessions:\n",
    "    sup_dict[acsn] = \"\""
   ]
  },
  {
   "cell_type": "code",
   "execution_count": null,
   "id": "50b103db-c0c2-4a99-8b9a-78fa5ec1d57e",
   "metadata": {},
   "outputs": [],
   "source": [
    "len(sup_dict)"
   ]
  },
  {
   "cell_type": "code",
   "execution_count": null,
   "id": "6ed068de-a5f3-402e-a54c-5ed17228d6c4",
   "metadata": {},
   "outputs": [],
   "source": [
    "def Function(my_list):\n",
    "    res_dict = dict()\n",
    "    for acc in my_list:\n",
    "        res_dict[acc] = \"\"  #Если GeneId не будет найден, добавляется пустая строка\n",
    "        handle = Entrez.efetch(db=\"protein\", id=acc, rettype=\"gb\", retmode=\"text\")\n",
    "        record = SeqIO.read(handle, \"genbank\")\n",
    "        for feature in record.features:\n",
    "            if feature.type == \"CDS\":\n",
    "                if \"db_xref\" in feature.qualifiers:\n",
    "                    L = [\n",
    "                        line\n",
    "                        for line in feature.qualifiers[\"db_xref\"]\n",
    "                        if \"GeneID\" in line\n",
    "                    ]\n",
    "                    if L:\n",
    "                        for i in L:\n",
    "                            res_dict[acc] = i.split(\":\")[1]\n",
    "    return res_dict"
   ]
  },
  {
   "cell_type": "code",
   "execution_count": null,
   "id": "d312d3e5-7291-4e59-b40c-8812b017b3fb",
   "metadata": {},
   "outputs": [],
   "source": [
    "main_dict = Function(lst)"
   ]
  },
  {
   "cell_type": "code",
   "execution_count": null,
   "id": "863bf1c7-abe3-4897-b0b9-015b4083ab68",
   "metadata": {},
   "outputs": [],
   "source": [
    "len(main_dict)"
   ]
  },
  {
   "cell_type": "code",
   "execution_count": null,
   "id": "37d43bc8-1f15-416f-858d-9d8f2acfc2e0",
   "metadata": {},
   "outputs": [],
   "source": [
    "len(lst)"
   ]
  },
  {
   "cell_type": "code",
   "execution_count": null,
   "id": "d7a70126-d6f0-4975-9387-d98717c18c44",
   "metadata": {},
   "outputs": [],
   "source": [
    "merged_dict = {**sup_dict, **main_dict}"
   ]
  },
  {
   "cell_type": "code",
   "execution_count": null,
   "id": "9b970ad0-6440-4c0e-8ab3-d2da5e580073",
   "metadata": {},
   "outputs": [],
   "source": [
    "len(merged_dict)"
   ]
  },
  {
   "cell_type": "code",
   "execution_count": null,
   "id": "21cb97db-b423-46c4-825f-2000f2c8cb60",
   "metadata": {},
   "outputs": [],
   "source": [
    "column = cs.data[\"accession\"].replace(merged_dict)"
   ]
  },
  {
   "cell_type": "code",
   "execution_count": null,
   "id": "23319ff9-1bc0-476e-9cb5-31823ea0df17",
   "metadata": {},
   "outputs": [],
   "source": [
    "column.shape"
   ]
  },
  {
   "cell_type": "code",
   "execution_count": null,
   "id": "1cd2d287-dfc3-4185-ac54-fb368e068e65",
   "metadata": {},
   "outputs": [],
   "source": [
    "cs.data.ncbi_gene_id = column"
   ]
  },
  {
   "cell_type": "code",
   "execution_count": null,
   "id": "05ba0284-3042-49d6-a590-a7cc2f6c2792",
   "metadata": {},
   "outputs": [],
   "source": [
    "cs.save()"
   ]
  }
 ],
 "metadata": {
  "kernelspec": {
   "display_name": ".conda-histdb_env",
   "language": "python",
   "name": "conda-env-.conda-histdb_env-py"
  },
  "language_info": {
   "codemirror_mode": {
    "name": "ipython",
    "version": 3
   },
   "file_extension": ".py",
   "mimetype": "text/x-python",
   "name": "python",
   "nbconvert_exporter": "python",
   "pygments_lexer": "ipython3",
   "version": "3.8.1"
  }
 },
 "nbformat": 4,
 "nbformat_minor": 5
}
